{
  "nbformat": 4,
  "nbformat_minor": 0,
  "metadata": {
    "colab": {
      "provenance": [],
      "authorship_tag": "ABX9TyPiIt6ZXFmc+CSdVrNbz4Ag",
      "include_colab_link": true
    },
    "kernelspec": {
      "name": "python3",
      "display_name": "Python 3"
    },
    "language_info": {
      "name": "python"
    }
  },
  "cells": [
    {
      "cell_type": "markdown",
      "metadata": {
        "id": "view-in-github",
        "colab_type": "text"
      },
      "source": [
        "<a href=\"https://colab.research.google.com/github/aabhishekdata/vid2pdf/blob/main/advanced_vid2pdf.ipynb\" target=\"_parent\"><img src=\"https://colab.research.google.com/assets/colab-badge.svg\" alt=\"Open In Colab\"/></a>"
      ]
    },
    {
      "cell_type": "code",
      "execution_count": null,
      "metadata": {
        "id": "wiqrgLNog7Sw"
      },
      "outputs": [],
      "source": [
        "pip install pytube3 moviepy fpdf pillow scikit-image\n"
      ]
    },
    {
      "cell_type": "code",
      "source": [
        "pip install --upgrade pytube\n"
      ],
      "metadata": {
        "id": "tEUDwKxuhEY1"
      },
      "execution_count": null,
      "outputs": []
    },
    {
      "cell_type": "code",
      "source": [
        "from pytube import YouTube\n",
        "from moviepy.editor import VideoFileClip\n",
        "from fpdf import FPDF\n",
        "from skimage.metrics import structural_similarity as ssim\n",
        "from skimage.color import rgb2gray\n",
        "import os\n",
        "from PIL import Image\n",
        "import numpy as np"
      ],
      "metadata": {
        "id": "_8Uoi61QhEbs"
      },
      "execution_count": 8,
      "outputs": []
    },
    {
      "cell_type": "code",
      "source": [
        "# URL of the YouTube video\n",
        "url = 'https://www.youtube.com/watch?v=RuRmq7VyCaQ'\n",
        "\n",
        "# Output directory\n",
        "output_dir = 'output'\n"
      ],
      "metadata": {
        "id": "9U0Ue3PObaUJ"
      },
      "execution_count": 9,
      "outputs": []
    },
    {
      "cell_type": "code",
      "source": [
        "# Download the YouTube video\n",
        "try:\n",
        "    yt = YouTube(url)\n",
        "    stream = yt.streams.filter(file_extension='mp4', res='720p').first()\n",
        "    stream.download(output_path=output_dir, filename='video.mp4')\n",
        "except Exception as e:\n",
        "    print(f\"An error occurred: {e}\")\n",
        "    exit()"
      ],
      "metadata": {
        "id": "Gh-xm5DbhL-P"
      },
      "execution_count": 10,
      "outputs": []
    },
    {
      "cell_type": "code",
      "source": [
        "# Load the video\n",
        "clip = VideoFileClip(os.path.join(output_dir, 'video.mp4'))\n",
        "\n",
        "# SSIM threshold\n",
        "ssim_threshold = 0.9\n",
        "\n",
        "# Previous frame\n",
        "prev_frame = None\n",
        "\n",
        "# Frame counter\n",
        "counter = 0"
      ],
      "metadata": {
        "id": "1Gx4hgLuhMBW"
      },
      "execution_count": 11,
      "outputs": []
    },
    {
      "cell_type": "code",
      "source": [
        "# Iterate through the video frame by frame\n",
        "for i, frame in enumerate(clip.iter_frames(fps=1, dtype='uint8')):\n",
        "    # Convert the frame to grayscale\n",
        "    current_frame = rgb2gray(frame)\n",
        "\n",
        "    # If this is not the first frame, compare with the previous frame\n",
        "    if prev_frame is not None:\n",
        "        s = ssim(prev_frame, current_frame)\n",
        "        if s < ssim_threshold:\n",
        "            frame_path = os.path.join(output_dir, f'screenshot_{counter}.png')\n",
        "            im = Image.fromarray(frame)\n",
        "            im.save(frame_path)\n",
        "            counter += 1\n",
        "\n",
        "    # Update the previous frame\n",
        "    prev_frame = current_frame"
      ],
      "metadata": {
        "id": "1uQ_jHHqhMEk"
      },
      "execution_count": 12,
      "outputs": []
    },
    {
      "cell_type": "code",
      "source": [
        "# Create a PDF from the screenshots\n",
        "pdf = FPDF()\n",
        "pdf.set_auto_page_break(auto=True, margin=15)\n",
        "for i in range(counter):\n",
        "    frame_path = os.path.join(output_dir, f'screenshot_{i}.png')\n",
        "    pdf.add_page()\n",
        "    pdf.image(frame_path, x=10, y=10, w=190)\n",
        "pdf.output(os.path.join(output_dir, 'notes.pdf'))\n",
        "\n",
        "# Close the clip\n",
        "clip.close()"
      ],
      "metadata": {
        "id": "gDtNro4NhMHZ"
      },
      "execution_count": 13,
      "outputs": []
    },
    {
      "cell_type": "code",
      "source": [],
      "metadata": {
        "id": "EVGHwLW6hMKT"
      },
      "execution_count": null,
      "outputs": []
    },
    {
      "cell_type": "code",
      "source": [],
      "metadata": {
        "id": "zJF14p2chMNY"
      },
      "execution_count": null,
      "outputs": []
    },
    {
      "cell_type": "code",
      "source": [],
      "metadata": {
        "id": "oNAsVbMshMQa"
      },
      "execution_count": null,
      "outputs": []
    },
    {
      "cell_type": "code",
      "source": [],
      "metadata": {
        "id": "AWCev_W0hMTI"
      },
      "execution_count": null,
      "outputs": []
    },
    {
      "cell_type": "code",
      "source": [],
      "metadata": {
        "id": "7k0V9r9FhEe0"
      },
      "execution_count": null,
      "outputs": []
    },
    {
      "cell_type": "code",
      "source": [],
      "metadata": {
        "id": "pNPKMMcnhEiR"
      },
      "execution_count": null,
      "outputs": []
    }
  ]
}